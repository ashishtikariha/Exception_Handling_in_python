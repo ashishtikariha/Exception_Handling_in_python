{
 "cells": [
  {
   "cell_type": "markdown",
   "metadata": {},
   "source": [
    "## Ashish Tikariha\n",
    "## ashishtikaria5@gmail.com\n",
    "## Ph : 7987777139"
   ]
  },
  {
   "cell_type": "markdown",
   "metadata": {},
   "source": [
    "# Types of error\n",
    "#### 1. Compile time error : Checks whole code for correct syntax,indentation etc...Checks if the code is proper or not\n",
    "#### Error is thrown and nothing is printed if there is compile time error\n",
    "#### 2. Run time error : checks code line by line for errors in naming,divide by 0,datatype error etc\n",
    "#### Error is thrown for particular line...above lines gets executed & printed....below lines not\n",
    "#### 3. Logical error : It doesnt throw error....it gives wrong output bcoz of wrong logic applied by user  \n",
    "#### Logical error has to be handled by user only...python cant do anything"
   ]
  },
  {
   "cell_type": "code",
   "execution_count": 1,
   "metadata": {},
   "outputs": [
    {
     "ename": "SyntaxError",
     "evalue": "unmatched ')' (<ipython-input-1-860d2d12b3b6>, line 6)",
     "output_type": "error",
     "traceback": [
      "\u001b[1;36m  File \u001b[1;32m\"<ipython-input-1-860d2d12b3b6>\"\u001b[1;36m, line \u001b[1;32m6\u001b[0m\n\u001b[1;33m    print('afsaan'))     # extra bracket\u001b[0m\n\u001b[1;37m                   ^\u001b[0m\n\u001b[1;31mSyntaxError\u001b[0m\u001b[1;31m:\u001b[0m unmatched ')'\n"
     ]
    }
   ],
   "source": [
    "# complile time error....nothing will be printed\n",
    "a = 10\n",
    "b = 20\n",
    "\n",
    "print('afsan')\n",
    "print('afsaan'))     # extra bracket\n",
    "print('khan')"
   ]
  },
  {
   "cell_type": "code",
   "execution_count": 2,
   "metadata": {},
   "outputs": [
    {
     "name": "stdout",
     "output_type": "stream",
     "text": [
      "afsan\n"
     ]
    },
    {
     "ename": "ZeroDivisionError",
     "evalue": "division by zero",
     "output_type": "error",
     "traceback": [
      "\u001b[1;31m---------------------------------------------------------------------------\u001b[0m",
      "\u001b[1;31mZeroDivisionError\u001b[0m                         Traceback (most recent call last)",
      "\u001b[1;32m<ipython-input-2-4ec022a5a41a>\u001b[0m in \u001b[0;36m<module>\u001b[1;34m\u001b[0m\n\u001b[0;32m      3\u001b[0m \u001b[0mb\u001b[0m \u001b[1;33m=\u001b[0m \u001b[1;36m20\u001b[0m\u001b[1;33m\u001b[0m\u001b[1;33m\u001b[0m\u001b[0m\n\u001b[0;32m      4\u001b[0m \u001b[0mprint\u001b[0m\u001b[1;33m(\u001b[0m\u001b[1;34m'afsan'\u001b[0m\u001b[1;33m)\u001b[0m\u001b[1;33m\u001b[0m\u001b[1;33m\u001b[0m\u001b[0m\n\u001b[1;32m----> 5\u001b[1;33m \u001b[0mprint\u001b[0m\u001b[1;33m(\u001b[0m\u001b[1;36m3\u001b[0m\u001b[1;33m/\u001b[0m\u001b[1;36m0\u001b[0m\u001b[1;33m)\u001b[0m           \u001b[1;31m# Dividing by zero\u001b[0m\u001b[1;33m\u001b[0m\u001b[1;33m\u001b[0m\u001b[0m\n\u001b[0m\u001b[0;32m      6\u001b[0m \u001b[0mprint\u001b[0m\u001b[1;33m(\u001b[0m\u001b[1;34m'khan'\u001b[0m\u001b[1;33m)\u001b[0m\u001b[1;33m\u001b[0m\u001b[1;33m\u001b[0m\u001b[0m\n",
      "\u001b[1;31mZeroDivisionError\u001b[0m: division by zero"
     ]
    }
   ],
   "source": [
    "# runtime error\n",
    "a = 10\n",
    "b = 20\n",
    "print('afsan')\n",
    "print(3/0)           # Dividing by zero\n",
    "print('khan')"
   ]
  },
  {
   "cell_type": "code",
   "execution_count": 4,
   "metadata": {},
   "outputs": [
    {
     "name": "stdout",
     "output_type": "stream",
     "text": [
      "8\n"
     ]
    }
   ],
   "source": [
    "# logical error\n",
    "# Find the minimum number in the list\n",
    "a=[3,6,2,8,5]\n",
    "x=a[0]\n",
    "for i in a:\n",
    "    if i>x:          # Wrong logic\n",
    "        x=i\n",
    "print(x)            # wrong output"
   ]
  },
  {
   "cell_type": "markdown",
   "metadata": {},
   "source": [
    "## Exception handling : It is basically used to handle run time errors only\n",
    "\n",
    "### When we take inputs from user....problem of irrelevent input usually occurs which stops the program totally which should not happen in real case....There comes the importance of exception hanling\n",
    "\n",
    "## keywords used in exception handling\n",
    "\n",
    "1. try\n",
    "2. except\n",
    "3. else\n",
    "4. finally\n",
    "5. raise"
   ]
  },
  {
   "cell_type": "code",
   "execution_count": 5,
   "metadata": {},
   "outputs": [
    {
     "name": "stdout",
     "output_type": "stream",
     "text": [
      "Enter the number3\n",
      "Enter the number0\n"
     ]
    },
    {
     "ename": "ZeroDivisionError",
     "evalue": "division by zero",
     "output_type": "error",
     "traceback": [
      "\u001b[1;31m---------------------------------------------------------------------------\u001b[0m",
      "\u001b[1;31mZeroDivisionError\u001b[0m                         Traceback (most recent call last)",
      "\u001b[1;32m<ipython-input-5-2582ab7ab2ab>\u001b[0m in \u001b[0;36m<module>\u001b[1;34m\u001b[0m\n\u001b[0;32m      2\u001b[0m \u001b[0mnum2\u001b[0m \u001b[1;33m=\u001b[0m \u001b[0mint\u001b[0m\u001b[1;33m(\u001b[0m\u001b[0minput\u001b[0m\u001b[1;33m(\u001b[0m\u001b[1;34m'Enter the number'\u001b[0m\u001b[1;33m)\u001b[0m\u001b[1;33m)\u001b[0m\u001b[1;33m\u001b[0m\u001b[1;33m\u001b[0m\u001b[0m\n\u001b[0;32m      3\u001b[0m \u001b[1;33m\u001b[0m\u001b[0m\n\u001b[1;32m----> 4\u001b[1;33m \u001b[0mprint\u001b[0m\u001b[1;33m(\u001b[0m\u001b[0mnum1\u001b[0m\u001b[1;33m/\u001b[0m\u001b[0mnum2\u001b[0m\u001b[1;33m)\u001b[0m           \u001b[1;31m# Will throw error when num2=0....we need to handle it\u001b[0m\u001b[1;33m\u001b[0m\u001b[1;33m\u001b[0m\u001b[0m\n\u001b[0m\u001b[0;32m      5\u001b[0m \u001b[1;33m\u001b[0m\u001b[0m\n\u001b[0;32m      6\u001b[0m \u001b[0mprint\u001b[0m\u001b[1;33m(\u001b[0m\u001b[0mnum1\u001b[0m\u001b[1;33m)\u001b[0m\u001b[1;33m\u001b[0m\u001b[1;33m\u001b[0m\u001b[0m\n",
      "\u001b[1;31mZeroDivisionError\u001b[0m: division by zero"
     ]
    }
   ],
   "source": [
    "num1 = int(input('Enter the number'))\n",
    "num2 = int(input('Enter the number'))\n",
    "\n",
    "print(num1/num2)           # Will throw error when num2=0....we need to handle it\n",
    "\n",
    "print(num1)\n",
    "print(num2)"
   ]
  },
  {
   "cell_type": "markdown",
   "metadata": {},
   "source": [
    "# try-except\n",
    "\n",
    "## try : code which has possibility of error\n",
    "## except : alternate code in case error occured"
   ]
  },
  {
   "cell_type": "code",
   "execution_count": 8,
   "metadata": {},
   "outputs": [
    {
     "name": "stdout",
     "output_type": "stream",
     "text": [
      "Enter the number12\n",
      "Enter the number0\n",
      "sorry divide by error not allowed please use other number for num2\n",
      "12\n",
      "0\n"
     ]
    }
   ],
   "source": [
    "num1 = int(input('Enter the number'))\n",
    "num2 = int(input('Enter the number'))\n",
    "\n",
    "try:\n",
    "    print(num1/num2)       #Try this code if it is true,go for it otherwise go for except part\n",
    "except:\n",
    "    print('sorry divide by error not allowed please use other number for num2')\n",
    "\n",
    "print(num1)\n",
    "print(num2)"
   ]
  },
  {
   "cell_type": "code",
   "execution_count": 11,
   "metadata": {},
   "outputs": [
    {
     "name": "stdout",
     "output_type": "stream",
     "text": [
      "Enter the number5\n",
      "Enter the numberg\n",
      "Only intiger entries allowed\n",
      "8\n"
     ]
    }
   ],
   "source": [
    "try:\n",
    "    num1 = int(input('Enter the number'))      # String or char entries will be handled\n",
    "    num2 = int(input('Enter the number'))\n",
    "except:\n",
    "    print('Only intiger entries allowed')\n",
    "print(num1+num2)\n"
   ]
  },
  {
   "cell_type": "markdown",
   "metadata": {},
   "source": [
    "# try-except-else\n",
    " \n",
    "##  program will go into exception block when try blocks throws an error\n",
    "##  program will go into else block when try blocks will not throws any error"
   ]
  },
  {
   "cell_type": "code",
   "execution_count": 12,
   "metadata": {},
   "outputs": [
    {
     "name": "stdout",
     "output_type": "stream",
     "text": [
      "Enter the number5\n",
      "Enter the number6\n",
      "0.8333333333333334\n",
      "hola!!!! eveyrthing was correct\n",
      "5\n",
      "6\n"
     ]
    }
   ],
   "source": [
    "num1 = int(input('Enter the number'))\n",
    "num2 = int(input('Enter the number'))\n",
    "\n",
    "try:\n",
    "    print(num1/num2)\n",
    "except:\n",
    "    print('sorry divide by error not allowed please use other number for num2')\n",
    "else:\n",
    "    print('hola!!!! eveyrthing was correct')\n",
    "    \n",
    "\n",
    "print(num1)\n",
    "print(num2)\n"
   ]
  },
  {
   "cell_type": "code",
   "execution_count": 14,
   "metadata": {},
   "outputs": [
    {
     "name": "stdout",
     "output_type": "stream",
     "text": [
      "Enter the number2\n",
      "Enter the number8\n",
      "0.25\n",
      "2\n",
      "8\n"
     ]
    }
   ],
   "source": [
    "num1 = int(input('Enter the number'))\n",
    "num2 = int(input('Enter the number'))\n",
    "\n",
    "try:\n",
    "    res = num1/num2    \n",
    "except:\n",
    "    print('sorry divide by error not allowed please use other number for num2')\n",
    "else:\n",
    "    print(res)\n",
    "print(num1)\n",
    "print(num2)"
   ]
  },
  {
   "cell_type": "code",
   "execution_count": 15,
   "metadata": {},
   "outputs": [
    {
     "name": "stdout",
     "output_type": "stream",
     "text": [
      "Enter the number10\n",
      "Enter the number2\n",
      "5.0\n",
      "10\n",
      "2\n"
     ]
    }
   ],
   "source": [
    "# In above program we can write the print(res) in try block as well...but else block is given to make the code\n",
    "# structured and readable\n",
    "\n",
    "num1 = int(input('Enter the number'))\n",
    "num2 = int(input('Enter the number'))\n",
    "\n",
    "try:\n",
    "    res = num1/num2\n",
    "    print(res)\n",
    "except:\n",
    "    print('sorry divide by error not allowed please use other number for num2')\n",
    "print(num1)\n",
    "print(num2)"
   ]
  },
  {
   "cell_type": "markdown",
   "metadata": {},
   "source": [
    "###  finally - it will be exceuted whether we have a error or not in try block\n",
    "\n",
    "### It also doesnt make any sense....as everything can be handled by try and except only\n",
    "\n",
    "### But it makes the program clean and readable"
   ]
  },
  {
   "cell_type": "code",
   "execution_count": 17,
   "metadata": {},
   "outputs": [
    {
     "name": "stdout",
     "output_type": "stream",
     "text": [
      "Enter the number2\n",
      "Enter the number4\n",
      "0.5\n",
      "2\n",
      "4\n",
      "afsan\n",
      "khan\n"
     ]
    }
   ],
   "source": [
    "num1 = int(input('Enter the number'))\n",
    "num2 = int(input('Enter the number'))\n",
    "\n",
    "try:\n",
    "    res = num1/num2\n",
    "    print(res)\n",
    "except:\n",
    "    print('sorry cant divide by zero, please use other number for num2')\n",
    "finally:\n",
    "    print(num1)\n",
    "    print(num2)\n",
    "    \n",
    "print('afsan')\n",
    "print('khan')"
   ]
  },
  {
   "cell_type": "markdown",
   "metadata": {},
   "source": [
    "## Showing type of error to user\n",
    "\n",
    "### There are multiple ways"
   ]
  },
  {
   "cell_type": "code",
   "execution_count": 20,
   "metadata": {},
   "outputs": [
    {
     "name": "stdout",
     "output_type": "stream",
     "text": [
      "['ArithmeticError', 'AssertionError', 'AttributeError', 'BaseException', 'BlockingIOError', 'BrokenPipeError', 'BufferError', 'BytesWarning', 'ChildProcessError', 'ConnectionAbortedError', 'ConnectionError', 'ConnectionRefusedError', 'ConnectionResetError', 'DeprecationWarning', 'EOFError', 'Ellipsis', 'EnvironmentError', 'Exception', 'False', 'FileExistsError', 'FileNotFoundError', 'FloatingPointError', 'FutureWarning', 'GeneratorExit', 'IOError', 'ImportError', 'ImportWarning', 'IndentationError', 'IndexError', 'InterruptedError', 'IsADirectoryError', 'KeyError', 'KeyboardInterrupt', 'LookupError', 'MemoryError', 'ModuleNotFoundError', 'NameError', 'None', 'NotADirectoryError', 'NotImplemented', 'NotImplementedError', 'OSError', 'OverflowError', 'PendingDeprecationWarning', 'PermissionError', 'ProcessLookupError', 'RecursionError', 'ReferenceError', 'ResourceWarning', 'RuntimeError', 'RuntimeWarning', 'StopAsyncIteration', 'StopIteration', 'SyntaxError', 'SyntaxWarning', 'SystemError', 'SystemExit', 'TabError', 'TimeoutError', 'True', 'TypeError', 'UnboundLocalError', 'UnicodeDecodeError', 'UnicodeEncodeError', 'UnicodeError', 'UnicodeTranslateError', 'UnicodeWarning', 'UserWarning', 'ValueError', 'Warning', 'WindowsError', 'ZeroDivisionError', '__IPYTHON__', '__build_class__', '__debug__', '__doc__', '__import__', '__loader__', '__name__', '__package__', '__spec__', 'abs', 'all', 'any', 'ascii', 'bin', 'bool', 'breakpoint', 'bytearray', 'bytes', 'callable', 'chr', 'classmethod', 'compile', 'complex', 'copyright', 'credits', 'delattr', 'dict', 'dir', 'display', 'divmod', 'enumerate', 'eval', 'exec', 'filter', 'float', 'format', 'frozenset', 'get_ipython', 'getattr', 'globals', 'hasattr', 'hash', 'help', 'hex', 'id', 'input', 'int', 'isinstance', 'issubclass', 'iter', 'len', 'license', 'list', 'locals', 'map', 'max', 'memoryview', 'min', 'next', 'object', 'oct', 'open', 'ord', 'pow', 'print', 'property', 'range', 'repr', 'reversed', 'round', 'set', 'setattr', 'slice', 'sorted', 'staticmethod', 'str', 'sum', 'super', 'tuple', 'type', 'vars', 'zip']\n"
     ]
    }
   ],
   "source": [
    "print(dir(__builtins__))       # It gives all types of errors possible in python\n",
    "\n",
    "# We will use the exact error name with except block to identify error in case of multiple except blocks."
   ]
  },
  {
   "cell_type": "code",
   "execution_count": 24,
   "metadata": {},
   "outputs": [
    {
     "name": "stdout",
     "output_type": "stream",
     "text": [
      "Enter the number3\n",
      "Enter the number0\n",
      "num2 cant be zero\n",
      "3\n",
      "0\n"
     ]
    }
   ],
   "source": [
    "# Way_1 : If we want to print our own error messages\n",
    "\n",
    "try:\n",
    "    num1 = int(input('Enter the number'))         # Can have ValueError\n",
    "    num2 = int(input('Enter the number'))         # Can have ValueError\n",
    "    print(num1/num2)                              # Can have ZeroDivisionError\n",
    "    \n",
    "except ZeroDivisionError :                        # Name of error should match from dir(__builtins__)\n",
    "    print('num2 cant be zero')\n",
    "    \n",
    "except ValueError:\n",
    "    print('num1 & num2 should be integers')       # Name of error should match from dir(__builtins__)\n",
    "    \n",
    "except:\n",
    "    print('some other error')\n",
    "\n",
    "print(num1)\n",
    "print(num2)"
   ]
  },
  {
   "cell_type": "code",
   "execution_count": 27,
   "metadata": {},
   "outputs": [
    {
     "name": "stdout",
     "output_type": "stream",
     "text": [
      "Enter the numbers\n",
      "invalid literal for int() with base 10: 's'\n",
      "2\n",
      "0\n"
     ]
    }
   ],
   "source": [
    "# Way_2 ----> It describes the error by its own ----> e is just an alising ---> anything can be used\n",
    "\n",
    "try:\n",
    "    num1 = int(input('Enter the number'))\n",
    "    num2 = int(input('Enter the number'))\n",
    "    print(num1/num2)  \n",
    "    \n",
    "except ZeroDivisionError as e :\n",
    "    print(e)\n",
    "    \n",
    "except ValueError as b:\n",
    "    print(b)\n",
    "except :\n",
    "    print('Some other error')\n",
    "\n",
    "print(num1)\n",
    "print(num2)"
   ]
  },
  {
   "cell_type": "code",
   "execution_count": 29,
   "metadata": {},
   "outputs": [
    {
     "name": "stdout",
     "output_type": "stream",
     "text": [
      "Enter the number2\n",
      "Enter the number0\n",
      "division by zero\n",
      "2\n",
      "0\n"
     ]
    }
   ],
   "source": [
    "# 3rd way\n",
    "try:\n",
    "    num1 = int(input('Enter the number'))\n",
    "    num2 = int(input('Enter the number'))\n",
    "    print(num1/num2)  \n",
    "    \n",
    "except (ZeroDivisionError , ValueError) as x :        # passing all possible errors in tuple in single except block\n",
    "    print(x)\n",
    "    \n",
    "except:\n",
    "    print('some other error')\n",
    "\n",
    "print(num1)\n",
    "print(num2)"
   ]
  },
  {
   "cell_type": "markdown",
   "metadata": {},
   "source": [
    "## First three ways requires the knowledge of errors \n",
    "## There is 4th way which doesnt require that knowledge\n",
    "## Exception is a class written behind the scenes"
   ]
  },
  {
   "cell_type": "code",
   "execution_count": 30,
   "metadata": {},
   "outputs": [
    {
     "name": "stdout",
     "output_type": "stream",
     "text": [
      "Enter the number4\n",
      "Enter the number0\n",
      "division by zero\n",
      "4\n",
      "0\n"
     ]
    }
   ],
   "source": [
    "# 4th way\n",
    "\n",
    "try:\n",
    "    num1 = int(input('Enter the number'))\n",
    "    num2 = int(input('Enter the number'))\n",
    "    print(num1/num2)  \n",
    "    \n",
    "except Exception as abc :\n",
    "    print(abc)\n",
    "\n",
    "print(num1)\n",
    "print(num2)"
   ]
  },
  {
   "cell_type": "markdown",
   "metadata": {},
   "source": [
    "## We can also have nested try-except blocks\n",
    "\n",
    "## Raise ---> cover it when free"
   ]
  },
  {
   "cell_type": "code",
   "execution_count": null,
   "metadata": {},
   "outputs": [],
   "source": []
  }
 ],
 "metadata": {
  "kernelspec": {
   "display_name": "Python 3",
   "language": "python",
   "name": "python3"
  },
  "language_info": {
   "codemirror_mode": {
    "name": "ipython",
    "version": 3
   },
   "file_extension": ".py",
   "mimetype": "text/x-python",
   "name": "python",
   "nbconvert_exporter": "python",
   "pygments_lexer": "ipython3",
   "version": "3.8.5"
  }
 },
 "nbformat": 4,
 "nbformat_minor": 4
}
